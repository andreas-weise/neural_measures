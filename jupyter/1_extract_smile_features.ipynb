{
 "cells": [
  {
   "cell_type": "code",
   "execution_count": 1,
   "metadata": {},
   "outputs": [],
   "source": [
    "# extract opensmile features and write them to db, \n",
    "# then combine them into triplets for neural network input \n",
    "# and dump to pickle file\n",
    "#\n",
    "#################\n",
    "# NOTES/CONCEPT #\n",
    "#################\n",
    "# \n",
    "# 'triplets' of feature tensors:\n",
    "#     index 0: turn-initial IPU of speaker A\n",
    "#     index 1: turn-final IPU of next turn by speaker B\n",
    "#     index 2: turn-initial IPU of next turn by speaker A\n",
    "#     (A, B is independent of the labels in Fisher; each speaker takes\n",
    "#      either position for some triplets for each conversation)\n",
    "# alternative triplets: index 0 for very first IPU from A (per ses)\n",
    "#\n",
    "# three different subsets of Fisher \n",
    "# (no balancing by gender etc., percentages based on session count):\n",
    "#     'trn': training, ~80%\n",
    "#     'vld': validation, ~10%\n",
    "#     'tst': test, ~10%\n",
    "\n",
    "import multiprocessing\n",
    "import time\n",
    "\n",
    "import sys\n",
    "sys.path.append('../python')\n",
    "import cfg, fea"
   ]
  },
  {
   "cell_type": "code",
   "execution_count": null,
   "metadata": {},
   "outputs": [],
   "source": [
    "# features for games corpus (takes several minutes)\n",
    "fea.set_last_in_turn(cfg.CORPUS_ID_GAMES)\n",
    "\n",
    "pool = multiprocessing.Pool(6)\n",
    "args = [(cfg.CORPUS_ID_GAMES, '', i) for i in range(1, 13)]\n",
    "results = pool.starmap(fea.extract, args)"
   ]
  },
  {
   "cell_type": "code",
   "execution_count": null,
   "metadata": {},
   "outputs": [],
   "source": [
    "# determine turn-final chunks for fisher corpus; separated from \n",
    "# feature extraction so it is not repeated for restarts of that\n",
    "# (takes several minutes)\n",
    "fea.set_last_in_turn(cfg.CORPUS_ID_FISHER)"
   ]
  },
  {
   "cell_type": "code",
   "execution_count": null,
   "metadata": {},
   "outputs": [],
   "source": [
    "# features for fisher corpus (takes DOZENS OF HOURS, can be restarted)\n",
    "with open(cfg.FILELIST_FNAME_FC % 1) as lst_file:\n",
    "    lst_lines = lst_file.readlines()\n",
    "with open(cfg.FILELIST_FNAME_FC % 2) as lst_file:\n",
    "    lst_lines.extend(lst_file.readlines())\n",
    "\n",
    "# use this for a restart after an interruption \n",
    "# (set to last one that had been started, according to log;\n",
    "#  that run was incomplete, all those sessions should be done again)\n",
    "ses_id_start = 1\n",
    "step = 700\n",
    "pool = multiprocessing.Pool(7)\n",
    "\n",
    "for i in range(ses_id_start-1, len(lst_lines), step):\n",
    "    with open('log.txt', 'a') as log_file:\n",
    "        log_file.write('%d %s\\n' % (i+1, time.ctime()))\n",
    "    args = [[cfg.CORPUS_ID_FISHER]\n",
    "             + lst_lines[j].split()[:2] for j in range(i, i+step)]\n",
    "    results = pool.starmap(fea.extract, args)"
   ]
  },
  {
   "cell_type": "code",
   "execution_count": 2,
   "metadata": {},
   "outputs": [
    {
     "name": "stdout",
     "output_type": "stream",
     "text": [
      "loading data for all tasks/sessions...\n",
      "...done! Mon Mar  8 14:17:21 2021\n",
      "\n",
      "3227 triplets total\n",
      "\n",
      "storing data per task...\n",
      "...done! Mon Mar  8 14:17:22 2021\n",
      "storing data per session...\n",
      "...done! Mon Mar  8 14:17:22 2021\n",
      "\n",
      "converting to triplets with IPU 0...\n",
      "...done! Mon Mar  8 14:17:22 2021\n",
      "\n",
      "storing data per task...\n",
      "...done! Mon Mar  8 14:17:22 2021\n",
      "storing data per session...\n",
      "...done! Mon Mar  8 14:17:23 2021\n"
     ]
    }
   ],
   "source": [
    "# store triplets per task for games corpus (takes only seconds)\n",
    "fea.load_and_store_triplets(cfg.CORPUS_ID_GAMES)"
   ]
  },
  {
   "cell_type": "code",
   "execution_count": 3,
   "metadata": {},
   "outputs": [
    {
     "name": "stdout",
     "output_type": "stream",
     "text": [
      "loading data for all tasks/sessions...\n",
      "0% done Mon Mar  8 14:17:38 2021\n",
      "10% done Mon Mar  8 14:19:58 2021\n",
      "20% done Mon Mar  8 14:22:13 2021\n",
      "30% done Mon Mar  8 14:24:48 2021\n",
      "40% done Mon Mar  8 14:27:10 2021\n",
      "50% done Mon Mar  8 14:29:22 2021\n",
      "60% done Mon Mar  8 14:31:43 2021\n",
      "70% done Mon Mar  8 14:34:07 2021\n",
      "80% done Mon Mar  8 14:36:20 2021\n",
      "90% done Mon Mar  8 14:38:36 2021\n",
      "100% done Mon Mar  8 14:40:53 2021\n",
      "...done! Mon Mar  8 14:40:55 2021\n",
      "\n",
      "1351612 triplets total\n",
      "\n",
      "storing data per session...\n",
      "...done! Mon Mar  8 14:42:57 2021\n",
      "storing data per set (trn, dev, tst) and session...\n",
      "...done! Mon Mar  8 14:45:14 2021\n",
      "storing data per set (trn, dev, tst)...\n",
      "...done! Mon Mar  8 14:47:18 2021\n",
      "\n",
      "converting to triplets with IPU 0...\n",
      "...done! Mon Mar  8 14:48:14 2021\n",
      "\n",
      "storing data per session...\n",
      "...done! Mon Mar  8 14:50:14 2021\n",
      "storing data per set (trn, dev, tst) and session...\n",
      "...done! Mon Mar  8 14:52:14 2021\n",
      "storing data per set (trn, dev, tst)...\n",
      "...done! Mon Mar  8 14:54:17 2021\n"
     ]
    }
   ],
   "source": [
    "# store triplets per session for fisher corpus (takes ~ 40mins)\n",
    "fea.load_and_store_triplets(cfg.CORPUS_ID_FISHER, True)"
   ]
  }
 ],
 "metadata": {
  "kernelspec": {
   "display_name": "Python 3",
   "language": "python",
   "name": "python3"
  },
  "language_info": {
   "codemirror_mode": {
    "name": "ipython",
    "version": 3
   },
   "file_extension": ".py",
   "mimetype": "text/x-python",
   "name": "python",
   "nbconvert_exporter": "python",
   "pygments_lexer": "ipython3",
   "version": "3.6.9"
  }
 },
 "nbformat": 4,
 "nbformat_minor": 2
}
